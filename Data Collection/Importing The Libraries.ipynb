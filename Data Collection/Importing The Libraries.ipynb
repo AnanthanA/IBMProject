{
 "cells": [
  {
   "cell_type": "markdown",
   "id": "72a7f73a",
   "metadata": {},
   "source": [
    "# Team ID : PNT2022TMID32265"
   ]
  },
  {
   "cell_type": "markdown",
   "id": "0478c2f4",
   "metadata": {},
   "source": [
    "### • Importing The Libraries...."
   ]
  },
  {
   "cell_type": "code",
   "execution_count": 1,
   "id": "3b33847f",
   "metadata": {},
   "outputs": [],
   "source": [
    "import numpy as np\n",
    "import pandas as pd\n",
    "import matplotlib.pyplot as plt\n",
    "import seaborn as sns\n",
    "%matplotlib inline"
   ]
  },
  {
   "cell_type": "code",
   "execution_count": null,
   "id": "cc2ef593",
   "metadata": {},
   "outputs": [],
   "source": []
  }
 ],
 "metadata": {
  "kernelspec": {
   "display_name": "Python 3 (ipykernel)",
   "language": "python",
   "name": "python3"
  },
  "language_info": {
   "codemirror_mode": {
    "name": "ipython",
    "version": 3
   },
   "file_extension": ".py",
   "mimetype": "text/x-python",
   "name": "python",
   "nbconvert_exporter": "python",
   "pygments_lexer": "ipython3",
   "version": "3.9.13"
  }
 },
 "nbformat": 4,
 "nbformat_minor": 5
}
